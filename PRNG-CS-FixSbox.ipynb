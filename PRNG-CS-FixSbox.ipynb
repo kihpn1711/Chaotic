{
 "cells": [
  {
   "cell_type": "code",
   "execution_count": 1,
   "id": "9948daf3-7122-4a3f-9092-24a99fee4c1e",
   "metadata": {
    "tags": []
   },
   "outputs": [
    {
     "name": "stdout",
     "output_type": "stream",
     "text": [
      "Khóa IV: 01001010010011110110010101100101111011001010111011010101010001110101010000010000100001100010011000111001001010111100101011101001\n",
      "Chuỗi nhị phân K: 10111000101001001111110100111010110110011101011110111001011100110110101111011011001111010011011100101101101110001110000100000010100001010100010100101001001000110110100000000111100011000000100111100010001000011011010011010011010000001000101100110111010010100010001110011000011100\n",
      "IVP ^ XP0: 11110010111010111001100001011111\n",
      "IVS ^ XS0: 00110101011110010110110000110100\n",
      "IVL ^ XL0: 00111111110010111011101100010001\n",
      "IVT ^ XT0: 00010100100100110010101111101011\n",
      "Giá trị của các phần tử e ở dạng thập phân:\n",
      "[[ 0  2 25 23]\n",
      " [ 9  0  8 17]\n",
      " [25 16  0 28]\n",
      " [ 2 25 23  0]]\n",
      "M [[4294967246          0          0          0]\n",
      " [         0 4294967262          0          0]\n",
      " [         0          0 4294967227          0]\n",
      " [         0          0          0 4294967246]]\n",
      "M 4294967246\n",
      "[4294967246, 2, 25, 23]\n",
      "[9, 4294967262, 8, 17]\n",
      "[25, 16, 4294967227, 28]\n",
      "[2, 25, 23, 4294967246]\n"
     ]
    }
   ],
   "source": [
    "import secrets\n",
    "import numpy as np\n",
    "from sympy import Integer\n",
    "# def generate_random_binary_iv(length):\n",
    "#     iv = secrets.randbits(length)\n",
    "#     return bin(iv)[2:].zfill(length)\n",
    "\n",
    "# # Tạo khóa IV có chiều dài 128 bit\n",
    "# IV = generate_random_binary_iv(128)\n",
    "\n",
    "# # In ra khóa IV\n",
    "\n",
    "\n",
    "# import random\n",
    "\n",
    "# def generate_random_binary_string(length):\n",
    "#     return ''.join(str(random.randint(0, 1)) for _ in range(length))\n",
    "\n",
    "# # Tạo chuỗi nhị phân ngẫu nhiên có độ dài 278 bit\n",
    "# K = generate_random_binary_string(278)\n",
    "\n",
    "# # In ra chuỗi nhị phân K\n",
    "\n",
    "IV= '01001010010011110110010101100101111011001010111011010101010001110101010000010000100001100010011000111001001010111100101011101001'\n",
    "K= '10111000101001001111110100111010110110011101011110111001011100110110101111011011001111010011011100101101101110001110000100000010100001010100010100101001001000110110100000000111100011000000100111100010001000011011010011010011010000001000101100110111010010100010001110011000011100'\n",
    "print(\"Khóa IV:\", IV)\n",
    "print(\"Chuỗi nhị phân K:\", K)\n",
    "def Xor(bin1, bin2):\n",
    "    # Convert binary strings to integers\n",
    "    int1 = int(bin1, 2)\n",
    "    int2 = int(bin2, 2)\n",
    "    \n",
    "    # Perform XOR operation\n",
    "    result = int1 ^ int2\n",
    "    \n",
    "    # Convert result back to binary string\n",
    "    result_bin = bin(result)[2:].zfill(32)\n",
    "    \n",
    "    return result_bin\n",
    "\n",
    "\n",
    "# Các giá trị ban đầu\n",
    "IVP = IV[:32]\n",
    "XP0 = K[:32]\n",
    "IVS = IV[32:64]\n",
    "XS0 = K[32:64]\n",
    "IVL = IV[64:96]\n",
    "XL0 = K[64:96]\n",
    "IVT = IV[96:128]\n",
    "XT0 = K[96:128]\n",
    "Q0 = K[128:160]\n",
    "Ps = K[160:192]\n",
    "Pp = K[192:223]\n",
    "Tr = K[223:233]\n",
    "Kd = K[258:278]\n",
    "# Thực hiện phép XOR cho mỗi biến\n",
    "result_IVP_XP0 = Xor(IVP, XP0)\n",
    "result_IVS_XS0 = Xor(IVS, XS0)\n",
    "result_IVL_XL0 = Xor(IVL, XL0)\n",
    "result_IVT_XT0 = Xor(IVT, XT0)\n",
    "\n",
    "# In kết quả\n",
    "print(\"IVP ^ XP0:\", result_IVP_XP0)\n",
    "print(\"IVS ^ XS0:\", result_IVS_XS0)\n",
    "print(\"IVL ^ XL0:\", result_IVL_XL0)\n",
    "print(\"IVT ^ XT0:\", result_IVT_XT0)\n",
    "# Các giá trị nhị phân của các phần tử e\n",
    "e_binary = np.array([[0,K[233:238], K[238:243], K[243:248]],\n",
    "                     [K[248:253],0, K[253:258], K[258:263]],\n",
    "                     [K[263:268], K[268:273],0, K[273:278]],\n",
    "                     [K[233:238], K[238:243], K[243:248],0 ]])\n",
    "\n",
    "# Chuyển đổi các giá trị nhị phân sang thập phân\n",
    "e_decimal = np.vectorize(lambda x: int(str(x), 2))(e_binary)\n",
    "\n",
    "# Các giá trị của các phần tử e ở dạng thập phân\n",
    "print(\"Giá trị của các phần tử e ở dạng thập phân:\")\n",
    "print(e_decimal)\n",
    "\n",
    "# Giá trị mặc định của N\n",
    "N = 32\n",
    "\n",
    "# Tính toán các giá trị mới của M11, M22, M33, và M44\n",
    "M11 = 2 ** N - np.sum(e_decimal, axis=1)[0]\n",
    "M22 = 2 ** N - np.sum(e_decimal, axis=1)[1]\n",
    "M33 = 2 ** N - np.sum(e_decimal, axis=1)[2]\n",
    "M44 = 2 ** N - np.sum(e_decimal, axis=1)[3]\n",
    "\n",
    "# Tạo ma trận M\n",
    "new_values = np.array([[M11,0,0,0], \n",
    "              [0,M22,0,0], \n",
    "              [0,0,M33,0], \n",
    "              [0,0,0,M44]])\n",
    "print(\"M\",new_values)\n",
    "print(\"M\" ,M11)\n",
    "def add_matrices(e_decimal, new_values):\n",
    "    M = [[0]*4 for _ in range(4)]  # Tạo ma trận kết quả với tất cả các phần tử là 0\n",
    "\n",
    "    # Thực hiện phép cộng từng phần tử của hai ma trận\n",
    "    for i in range(4):\n",
    "        for j in range(4):\n",
    "            M[i][j] = e_decimal[i][j] + new_values[i][j]\n",
    "\n",
    "    return M\n",
    "# Thực hiện phép cộng\n",
    "M = add_matrices(e_decimal, new_values)\n",
    "\n",
    "# In ma trận kết quả\n",
    "for row in M:\n",
    "    print(row)"
   ]
  },
  {
   "cell_type": "code",
   "execution_count": 2,
   "id": "cb01c85f-1288-4aa5-983d-d713ce23ed8a",
   "metadata": {
    "tags": []
   },
   "outputs": [
    {
     "name": "stdout",
     "output_type": "stream",
     "text": [
      "Giá trị XP(1) là: 496851341\n"
     ]
    }
   ],
   "source": [
    "def calculate_XP(N, Pp_decimal, XP_prev):\n",
    "    \n",
    "    if not (1 <= Pp_decimal <= 2**(N-1) - 1) or not (1 <= XP_prev <= 2**N - 1):\n",
    "        raise ValueError(\"Pp và XP_prev phải nằm trong khoảng cho phép.\")\n",
    "    \n",
    "    # Tính toán giá trị XP(1) dựa trên công thức đã cho\n",
    "    if XP_prev > 0 and XP_prev < Pp_decimal:\n",
    "        XP_n = (2**N * XP_prev) // Pp_decimal\n",
    "    elif XP_prev > Pp_decimal and XP_prev < 2**(N-1):\n",
    "        XP_n = (2**N * (XP_prev - Pp_decimal)) // (2**(N-1) - Pp_decimal)\n",
    "    elif XP_prev > 2**(N-1) and XP_prev < 2**N - Pp_decimal:\n",
    "        XP_n = (2**N * (2**N - XP_prev - Pp_decimal)) // (2**(N-1) - Pp_decimal)\n",
    "    elif XP_prev > 2**N - Pp_decimal and XP_prev < 2**N:\n",
    "        XP_n = (2**N * (2**N - XP_prev)) // Pp_decimal\n",
    "    else:\n",
    "        XP_n = 2**N\n",
    "    \n",
    "    return XP_n\n",
    "\n",
    "# Giả sử các giá trị đã cho\n",
    "N = 32\n",
    "# Pp_binary = '01111111111111111111111111111111'  # Pp ở dạng nhị phân 31 bit\n",
    "Pp_binary = Pp\n",
    "# XP_prev_binary = '00111111111111111111111111111111'  # XP(0) ở dạng nhị phân 32 bit\n",
    "XP_prev_binary = result_IVP_XP0\n",
    "# Chuyển đổi XP(0) từ dạng nhị phân sang thập phân\n",
    "XP_prev = int(XP_prev_binary, 2) % 2**N\n",
    "# Chuyển đổi Pp từ dạng nhị phân sang thập phân\n",
    "Pp_decimal = int(Pp_binary, 2) % 2**(N-1)\n",
    "# Tính toán giá trị XP(1)\n",
    "XP_n = calculate_XP(N, Pp_decimal, XP_prev)\n",
    "\n",
    "print(f\"Giá trị XP(1) là: {XP_n}\")\n"
   ]
  },
  {
   "cell_type": "code",
   "execution_count": 3,
   "id": "ecf560a9-7e1c-4864-b98e-1ef913684844",
   "metadata": {
    "tags": []
   },
   "outputs": [
    {
     "name": "stdout",
     "output_type": "stream",
     "text": [
      "Giá trị XL(1) dạng thập phân mod 2**N: 3214363505\n"
     ]
    }
   ],
   "source": [
    "def calculate_XL( N, XL_prev):\n",
    "   \n",
    "# XL_prev = XL_prev_mod_N % (2 ** N)\n",
    "    if XL_prev != (3 * (2 ** (N - 2)) - 1) and XL_prev != (2 ** (N - 1)):\n",
    "        XL_n = (XL_prev * (2 ** N - XL_prev)// 2**(N-2)) % (2 ** N)\n",
    "    elif XL_prev == (3 * (2 ** (N - 2)) - 1):\n",
    "        XL_n = (3 * (2 ** (N - 2))) * (2 ** (N - 1)) % (2 ** N)\n",
    "    else:\n",
    "        XL_n = (2 ** (N - 1)) * (2 ** (N - 1)) % (2 ** N)\n",
    "    return XL_n\n",
    "\n",
    "# Example usage:\n",
    "N = 32  # Độ dài của dạng nhị phân\n",
    "# XL_prev_mod_N ='10000010001001001000010111010001'\n",
    "XL_prev_mod_N = result_IVL_XL0\n",
    "# XL_prev_mod_N = int(input(\"Nhập giá trị XL(n-1) dạng nhị phân 32 bit mod 2**N: \"), 2)\n",
    "XL_prev = int(XL_prev_mod_N, 2) % (2 ** N)\n",
    "XL_n = calculate_XL( N ,XL_prev)\n",
    " \n",
    "print(\"Giá trị XL(1) dạng thập phân mod 2**N:\", XL_n)\n",
    "##\n",
    "\n"
   ]
  },
  {
   "cell_type": "code",
   "execution_count": 4,
   "id": "593c1b1f-2c39-4856-9904-a0266d3973fc",
   "metadata": {
    "tags": []
   },
   "outputs": [
    {
     "name": "stdout",
     "output_type": "stream",
     "text": [
      "Giá trị XS(1) là: 2207743419\n"
     ]
    }
   ],
   "source": [
    "def calculate_XS(N, Ps_decimal, XS_prev):\n",
    "   \n",
    "   \n",
    "   \n",
    "    # Tính toán giá trị XS(1) dựa trên công thức đã cho\n",
    "    if 0 < XS_prev < Ps_decimal:\n",
    "        XS_n = (2**N * XS_prev) // Ps_decimal % (2 ** N)\n",
    "    elif Ps_decimal < XS_prev < 2**N:\n",
    "        XS_n = (2**N * (2**N - XS_prev)) // (2**N - Ps_decimal) % (2 ** N)\n",
    "    else:\n",
    "        XS_n = 2**N - 1 \n",
    "        \n",
    "    return int(XS_n)\n",
    "\n",
    "# Thử nghiệm với giá trị ban đầu \n",
    "N = 32\n",
    "# Ps_binary = \"11011000101101101110010110110110\"  # Giả sử giá trị nhị phân của Ps\n",
    "# XS_prev_binary = \"10101010101010101010101010101010\"  # Giả sử giá trị nhị phân của XS(0)\n",
    "Ps_binary = Ps\n",
    "XS_prev_binary = result_IVS_XS0\n",
    " # Chuyển đổi XS(0) từ dạng nhị phân sang thập phân\n",
    "XS_prev = int(XS_prev_binary, 2) % 2**N\n",
    "    # Chuyển đổi Ps từ dạng nhị phân sang thập phân\n",
    "Ps_decimal = int(Ps_binary, 2) % 2**N\n",
    "# Tính toán giá trị XS(1)\n",
    "XS_n = calculate_XS(N, Ps_decimal, XS_prev)\n",
    "\n",
    "print(f\"Giá trị XS(1) là: {XS_n}\")\n"
   ]
  },
  {
   "cell_type": "code",
   "execution_count": 5,
   "id": "3e667615-99f9-4b1d-acdf-ee283576596b",
   "metadata": {
    "tags": []
   },
   "outputs": [
    {
     "name": "stdout",
     "output_type": "stream",
     "text": [
      "Giá trị XT(1) là: 2476545581\n",
      "Giá trị nhị phân 32 bit: 10010011100111010001011000101101\n"
     ]
    }
   ],
   "source": [
    "from sympy import Integer\n",
    "def calculate_XT(N, XT_prev):\n",
    "    # Chuyển XT_prev sang kiểu Integer để xử lý với số lớn\n",
    "    XT_prev = Integer(XT_prev)\n",
    "    # Tính toán giá trị XS(1) dựa trên công thức đã cho\n",
    "    XT_n = (2 ** (-2*N + 2) * (4 * (XT_prev - 2**(N-1))**3 - 3 * 2**(2*N-2) * (XT_prev - 2**(N-1))) + 2**(N-1)) % 2**N\n",
    "    return max(1, min(int(XT_n) % (2**N), 2**N - 1))  # Đảm bảo giá trị nằm trong khoảng từ 1 đến 2^N - 1\n",
    "\n",
    "# Gán giá trị cho N và XT_prev_binary\n",
    "N = 32\n",
    "# result_IVT_XT0 = \"10101010101010101010101010101010\"  # Giả sử dữ liệu đầu vào là chuỗi nhị phân\n",
    "XT_prev_binary = result_IVT_XT0\n",
    "# Chuyển đổi XT(0) từ dạng nhị phân sang thập phân\n",
    "XT_prev = int(XT_prev_binary, 2) % 2**N\n",
    "    # Tính toán giá trị XT(1)\n",
    "XT_n = calculate_XT(N, XT_prev)\n",
    "\n",
    "print(f\"Giá trị XT(1) là: {XT_n}\")\n",
    "################\n",
    "\n",
    "\n",
    "# Chuyển đổi và in ra dạng nhị phân 32 bit\n",
    "XT_n_2 = bin(XT_n)[2:].zfill(32)\n",
    "print(\"Giá trị nhị phân 32 bit:\", XT_n_2)\n"
   ]
  },
  {
   "cell_type": "code",
   "execution_count": 6,
   "id": "51aa1305-f0c4-4529-a02f-e86914eb711b",
   "metadata": {
    "tags": []
   },
   "outputs": [
    {
     "name": "stdout",
     "output_type": "stream",
     "text": [
      "10000101010001010010100100100011\n",
      "11000010101000101001010010010001\n",
      "01100001010100010100101001001000\n",
      "00110000101010001010010100100100\n",
      "10011000010101000101001010010010\n",
      "11001100001010100010100101001001\n",
      "11100110000101010001010010100100\n",
      "11110011000010101000101001010010\n",
      "01111001100001010100010100101001\n",
      "10111100110000101010001010010100\n",
      "01011110011000010101000101001010\n",
      "00101111001100001010100010100101\n",
      "10010111100110000101010001010010\n"
     ]
    }
   ],
   "source": [
    "class LFSR:\n",
    "    \n",
    "    def __init__(self, seed, polynomial):\n",
    "        self.state = seed\n",
    "        self.polynomial = polynomial\n",
    "\n",
    "    def shift(self):\n",
    "        #Tính toán giá trị\n",
    "        feedback = (self.state >> 32) ^ ((self.state >> 22) & 1) ^ ((self.state >> 3) & 1) ^ ((self.state >> 2) & 1)\n",
    "        # Dịch chuyển trạng thái\n",
    "        self.state = (self.state >> 1) | (feedback << 31)\n",
    "\n",
    "        \n",
    "    def get_output(self):\n",
    "        return self.state\n",
    "seed_binary = Q0\n",
    "seed_decimal = int(seed_binary, 2)\n",
    "# Xác định đa thức nguyên thủy\n",
    "primitive_polynomial = [32, 22, 2, 1, 0]\n",
    "\n",
    "# Khởi tạo LFSR với giá trị khởi đầu và đa thức\n",
    "lfsr = LFSR(seed=seed_decimal, polynomial=primitive_polynomial)\n",
    "\n",
    "# Tạo ra 10 đầu ra\n",
    "for _ in range(13):\n",
    "    print(bin(lfsr.get_output())[2:].zfill(32))\n",
    "    lfsr.shift()\n",
    "###################\n"
   ]
  },
  {
   "cell_type": "code",
   "execution_count": 7,
   "id": "7d258fdb-bded-430f-9771-a5130edf28c2",
   "metadata": {
    "tags": []
   },
   "outputs": [
    {
     "name": "stdout",
     "output_type": "stream",
     "text": [
      "2372917383\n",
      "10001101011011111101100010000111\n",
      "XTI_n: 519229098\n"
     ]
    }
   ],
   "source": [
    "# Khởi tạo LFSR với giá trị seed và đa thức\n",
    "lfsr = LFSR(seed=seed_decimal, polynomial=primitive_polynomial)\n",
    "\n",
    "# Lặp 14 lần để dịch chuyển LFSR\n",
    "for _ in range(54):\n",
    "    lfsr.shift()\n",
    "\n",
    "# Lấy giá trị của LFSR tại thời điểm hiện tại (lần thứ 14)\n",
    "LFSR_n = lfsr.get_output()\n",
    "\n",
    "# In ra giá trị hiện tại của LFSR\n",
    "print (LFSR_n)\n",
    "print(bin(LFSR_n)[2:].zfill(32))\n",
    "#Tính XTI_1 \n",
    "\n",
    "    # Chuyển đổi XT(0) từ dạng nhị phân sang thập phân\n",
    "XTI_n_2 = Xor(XT_n_2,bin(LFSR_n)[2:].zfill(32))\n",
    "XTI_n = int(XTI_n_2, 2) % 2**N\n",
    "  \n",
    "\n",
    "\n",
    "# In ra giá trị XTI_n dạng thập phân\n",
    "print(\"XTI_n:\", XTI_n)"
   ]
  },
  {
   "cell_type": "code",
   "execution_count": 8,
   "id": "ace26475-b0e7-48ad-bb0c-1d796793c6c2",
   "metadata": {
    "tags": []
   },
   "outputs": [
    {
     "name": "stdout",
     "output_type": "stream",
     "text": [
      "Ma trận 4x1:\n",
      "[[4.96851341e+08]\n",
      " [2.20774342e+09]\n",
      " [3.21436350e+09]\n",
      " [5.19229098e+08]]\n"
     ]
    }
   ],
   "source": [
    "import numpy as np\n",
    "# Tạo ma trận 4x1 và đưa giá trị XP_n vào\n",
    "matrix_4x1 = np.zeros((4, 1))\n",
    "matrix_4x1[0, 0] = XP_n\n",
    "matrix_4x1[1, 0] = XS_n\n",
    "matrix_4x1[2, 0] = XL_n\n",
    "matrix_4x1[3, 0] = XTI_n\n",
    "print(\"Ma trận 4x1:\")\n",
    "print(matrix_4x1)"
   ]
  },
  {
   "cell_type": "code",
   "execution_count": 9,
   "id": "930418fd-8e10-4cf9-bdef-6e43ffabca61",
   "metadata": {
    "tags": []
   },
   "outputs": [
    {
     "name": "stdout",
     "output_type": "stream",
     "text": [
      "[[4294967246, 2, 25, 23], [9, 4294967262, 8, 17], [25, 16, 4294967227, 28], [2, 25, 23, 4294967246]]\n"
     ]
    }
   ],
   "source": [
    "print(M)"
   ]
  },
  {
   "cell_type": "code",
   "execution_count": 10,
   "id": "824b5b0f-f134-44a8-a5f5-1044b49a9d25",
   "metadata": {
    "tags": []
   },
   "outputs": [
    {
     "name": "stdout",
     "output_type": "stream",
     "text": [
      "Kết quả sau khi nhân ma trận:\n",
      "[[3154799931]\n",
      " [2604894193]\n",
      " [3701268376]\n",
      " [1076978768]]\n"
     ]
    }
   ],
   "source": [
    "import numpy as np\n",
    "\n",
    "\n",
    "# Ma trận 4x1\n",
    "matrix_4x1 = np.array([[\n",
    "    XP_n], [XS_n], [XL_n], [XTI_n]])\n",
    "\n",
    "# Ma trận M\n",
    "\n",
    "# Nhân hai ma trận\n",
    "M_A = (M @ matrix_4x1) % (2**32)\n",
    "\n",
    "print(\"Kết quả sau khi nhân ma trận:\")\n",
    "print(M_A)\n"
   ]
  },
  {
   "cell_type": "code",
   "execution_count": 11,
   "id": "6f3b0c5e-0ed3-472c-b86c-205eac8b7806",
   "metadata": {},
   "outputs": [
    {
     "name": "stdout",
     "output_type": "stream",
     "text": [
      "Kết quả của từng hàng sau khi lấy phần dư mod 2^32:\n",
      "Row 1: 3154799931\n",
      "Row 2: 2604894193\n",
      "Row 3: 3701268376\n",
      "Row 4: 1076978768\n"
     ]
    }
   ],
   "source": [
    "import numpy as np\n",
    "\n",
    "# Giả sử result_matrix đã được tính trước đó\n",
    "\n",
    "# Lấy kết quả của từng hàng\n",
    "row1_result = M_A[0, 0]\n",
    "row2_result = M_A[1, 0]\n",
    "row3_result = M_A[2, 0]\n",
    "row4_result = M_A[3, 0]\n",
    "\n",
    "# Lấy phần dư mod 2^32\n",
    "XPC_1 = M_A[0, 0] % (2**32)\n",
    "XSC_1 = M_A[1, 0] % (2**32)\n",
    "XLC_1 = M_A[2, 0] % (2**32)\n",
    "XTIC_1 = M_A[3, 0] % (2**32)\n",
    "\n",
    "print(\"Kết quả của từng hàng sau khi lấy phần dư mod 2^32:\")\n",
    "print(\"Row 1:\", XPC_1)\n",
    "print(\"Row 2:\", XSC_1)\n",
    "print(\"Row 3:\", XLC_1)\n",
    "print(\"Row 4:\", XTIC_1)\n"
   ]
  },
  {
   "cell_type": "code",
   "execution_count": 12,
   "id": "1249e387-5d27-4c69-b57a-658a6eb1b8ba",
   "metadata": {
    "tags": []
   },
   "outputs": [
    {
     "name": "stdout",
     "output_type": "stream",
     "text": [
      "3152302338\n"
     ]
    }
   ],
   "source": [
    "# Xn1 tính toán\n",
    "Xn = XPC_1 ^ XSC_1 ^ XLC_1 ^ XTIC_1 \n",
    "print(Xn)\n",
    "#### S-box\n",
    "# S_box = [[0 for _ in range(16)] for _ in range(16)]\n",
    "\n",
    "# # Tạo một set để lưu trữ các giá trị đã xuất hiện\n",
    "# S_values = set()\n",
    "\n",
    "# # Tính toán giá trị V ban đầu và đẩy vào S box\n",
    "# V_n = Xn % 256\n",
    "# S_box[0][0] = V_n\n",
    "# S_values.add(V_n)\n",
    "# t = 1"
   ]
  },
  {
   "cell_type": "code",
   "execution_count": 13,
   "id": "12a449c6-4efc-4d04-b6d4-ee41d25bcfaa",
   "metadata": {
    "tags": []
   },
   "outputs": [],
   "source": [
    "\n",
    "\n",
    "# Lưu trữ giá trị ban đầu\n",
    "XP_prev = XPC_1\n",
    "XS_prev = XSC_1\n",
    "XL_prev = XLC_1\n",
    "XT_prev = XTIC_1\n",
    "LFSR_prev = LFSR_n\n",
    "Xn_values = []\n",
    "\n",
    "# Tính toán các giá trị XP(n), XL(n), XS(n), XT(n) với n trong khoảng 2 < n < 100\n",
    "for n in range(2, 1600):\n",
    "    Xn_values.append(Xn)\n",
    "    # Tính toán giá trị XP, XL, XS, XT cho vòng lặp hiện tại\n",
    "    XP_n = calculate_XP(N, Pp_decimal, XP_prev)\n",
    "    XL_n = calculate_XL(N, XL_prev)\n",
    "    XS_n = calculate_XS(N, Ps_decimal, XS_prev)\n",
    "    XT_n = calculate_XT(N, XT_prev)\n",
    "    \n",
    "    # Cập nhật giá trị LFSR\n",
    "    lfsr.shift()\n",
    "    LFSR_n = lfsr.get_output()\n",
    "    \n",
    "    # Tính giá trị XT_n\n",
    "    XTI_n = (XT_n ^ LFSR_n) % 2**N\n",
    "    \n",
    "    \n",
    "    # In ra giá trị của XP(n), XL(n), XS(n), XT(n)\n",
    "    # print(f\"Giá trị XP({n}) là: {XP_n}\")\n",
    "    # print(f\"Giá trị XL({n}) là: {XL_n}\")\n",
    "    # print(f\"Giá trị XS({n}) là: {XS_n}\")\n",
    "    # print(f\"Giá trị XT({n}) là: {XT_n}\")\n",
    "\n",
    "    # Tính toán Xn và in ra giá trị cuối cùng\n",
    "    matrix_4x1 = np.zeros((4, 1))\n",
    "    matrix_4x1[0, 0] = XP_n\n",
    "    matrix_4x1[1, 0] = XS_n\n",
    "    matrix_4x1[2, 0] = XL_n\n",
    "    matrix_4x1[3, 0] = XTI_n\n",
    "\n",
    "    matrix_4x1 = np.array([[XP_n], [XS_n], [XL_n], [XTI_n]])\n",
    "    # Ma trận M\n",
    "    # Nhân hai ma trận\n",
    "    M_A = (M @ matrix_4x1) % (2**32)\n",
    "\n",
    "    XPC_n = M_A[0, 0] % (2**32)\n",
    "    XSC_n = M_A[1, 0] % (2**32)\n",
    "    XLC_n = M_A[2, 0] % (2**32)\n",
    "    XTIC_n = M_A[3, 0] % (2**32)\n",
    "    \n",
    "    # Cập nhật giá trị cho vòng lặp tiếp theo\n",
    "    XP_prev = XPC_n\n",
    "    XS_prev = XSC_n\n",
    "    XL_prev = XLC_n\n",
    "    XT_prev = XTIC_n\n",
    "    LFSR_prev = LFSR_n\n",
    "    # Tính toán Xn và in ra giá trị cuối cùng\n",
    "    Xn = XPC_n ^ XSC_n ^ XLC_n ^ XTIC_n \n",
    "    # print(f\"Giá trị Xn({n}) là: {Xn}\")\n",
    "    ####################\n",
    "  "
   ]
  },
  {
   "cell_type": "code",
   "execution_count": 14,
   "id": "3908f822-85fe-442c-865f-1691cae334f0",
   "metadata": {
    "tags": []
   },
   "outputs": [
    {
     "name": "stdout",
     "output_type": "stream",
     "text": [
      "S_box 16x16:\n",
      "[2, 193, 0, 32, 162, 160, 134, 165, 41, 16, 228, 252, 169, 254, 38, 113]\n",
      "[182, 213, 44, 237, 92, 119, 184, 240, 216, 147, 4, 233, 129, 192, 244, 197]\n",
      "[176, 109, 122, 39, 224, 247, 49, 30, 51, 98, 102, 110, 211, 231, 20, 12]\n",
      "[7, 205, 27, 179, 57, 73, 56, 151, 126, 105, 141, 104, 242, 203, 171, 236]\n",
      "[8, 223, 209, 65, 25, 83, 74, 234, 106, 186, 204, 207, 153, 11, 81, 45]\n",
      "[71, 180, 154, 232, 101, 97, 133, 225, 181, 99, 103, 17, 125, 120, 155, 86]\n",
      "[59, 227, 31, 9, 175, 189, 158, 15, 24, 200, 95, 94, 1, 90, 123, 245]\n",
      "[19, 76, 167, 144, 127, 210, 132, 22, 202, 69, 77, 156, 251, 201, 79, 115]\n",
      "[87, 61, 82, 212, 37, 195, 198, 62, 85, 128, 214, 93, 29, 117, 107, 239]\n",
      "[42, 116, 206, 222, 137, 183, 88, 148, 46, 150, 5, 174, 67, 188, 136, 84]\n",
      "[89, 241, 18, 3, 108, 191, 143, 112, 138, 52, 163, 63, 118, 78, 235, 172]\n",
      "[53, 173, 190, 159, 91, 140, 246, 168, 238, 217, 166, 187, 13, 170, 142, 199]\n",
      "[68, 28, 75, 100, 10, 243, 145, 54, 23, 194, 215, 220, 111, 80, 219, 161]\n",
      "[250, 114, 149, 14, 34, 33, 66, 26, 185, 72, 48, 196, 130, 152, 248, 255]\n",
      "[146, 96, 178, 21, 50, 221, 139, 218, 60, 121, 230, 229, 253, 208, 131, 36]\n",
      "[64, 226, 47, 55, 157, 177, 249, 43, 124, 164, 35, 40, 70, 135, 58, 6]\n"
     ]
    }
   ],
   "source": [
    "# Khởi tạo một set để lưu trữ các giá trị đã xuất hiện\n",
    "S_values = set()\n",
    "\n",
    "# Khởi tạo S_box 16x16 với tất cả các giá trị ban đầu là 0\n",
    "S_box = [[0 for _ in range(16)] for _ in range(16)]\n",
    "\n",
    "# Biến đếm số lượng giá trị duy nhất đã được thêm vào S_box\n",
    "t = 0\n",
    "\n",
    "# Tính toán V = Xn mod 256 cho mỗi giá trị Xn và đẩy vào S_box\n",
    "for Xn in Xn_values:\n",
    "    V = Xn % 256\n",
    "    # Nếu giá trị V chưa xuất hiện, thêm vào S_box và vào set unique_values\n",
    "    if V not in S_values:\n",
    "        # Tìm vị trí cho giá trị V trong S_box\n",
    "        row = t // 16\n",
    "        col = t % 16\n",
    "        # Lưu giá trị V vào S_box tại vị trí tương ứng\n",
    "        S_box[row][col] = V\n",
    "        # Thêm giá trị V vào set unique_values\n",
    "        S_values.add(V)\n",
    "        # Tăng biến đếm lên 1\n",
    "        t += 1\n",
    "    # Nếu S_box đã đầy 256 giá trị, dừng vòng lặp\n",
    "    if t > 255:\n",
    "        break\n",
    "\n",
    "# In ra S_box\n",
    "print(\"S_box 16x16:\")\n",
    "for row in S_box:\n",
    "    print(row)\n"
   ]
  },
  {
   "cell_type": "code",
   "execution_count": 15,
   "id": "5d3db4f0-400b-4f56-bc47-6f7a3a971724",
   "metadata": {
    "tags": []
   },
   "outputs": [
    {
     "name": "stdout",
     "output_type": "stream",
     "text": [
      "[[2, 193, 0, 32, 162, 160, 134, 165, 41, 16, 228, 252, 169, 254, 38, 113], [182, 213, 44, 237, 92, 119, 184, 240, 216, 147, 4, 233, 129, 192, 244, 197], [176, 109, 122, 39, 224, 247, 49, 30, 51, 98, 102, 110, 211, 231, 20, 12], [7, 205, 27, 179, 57, 73, 56, 151, 126, 105, 141, 104, 242, 203, 171, 236], [8, 223, 209, 65, 25, 83, 74, 234, 106, 186, 204, 207, 153, 11, 81, 45], [71, 180, 154, 232, 101, 97, 133, 225, 181, 99, 103, 17, 125, 120, 155, 86], [59, 227, 31, 9, 175, 189, 158, 15, 24, 200, 95, 94, 1, 90, 123, 245], [19, 76, 167, 144, 127, 210, 132, 22, 202, 69, 77, 156, 251, 201, 79, 115], [87, 61, 82, 212, 37, 195, 198, 62, 85, 128, 214, 93, 29, 117, 107, 239], [42, 116, 206, 222, 137, 183, 88, 148, 46, 150, 5, 174, 67, 188, 136, 84], [89, 241, 18, 3, 108, 191, 143, 112, 138, 52, 163, 63, 118, 78, 235, 172], [53, 173, 190, 159, 91, 140, 246, 168, 238, 217, 166, 187, 13, 170, 142, 199], [68, 28, 75, 100, 10, 243, 145, 54, 23, 194, 215, 220, 111, 80, 219, 161], [250, 114, 149, 14, 34, 33, 66, 26, 185, 72, 48, 196, 130, 152, 248, 255], [146, 96, 178, 21, 50, 221, 139, 218, 60, 121, 230, 229, 253, 208, 131, 36], [64, 226, 47, 55, 157, 177, 249, 43, 124, 164, 35, 40, 70, 135, 58, 6]]\n"
     ]
    }
   ],
   "source": [
    "print (S_box)"
   ]
  },
  {
   "cell_type": "code",
   "execution_count": 21,
   "id": "594742cc-48a0-4b9a-be9f-2efdb44aa165",
   "metadata": {
    "tags": []
   },
   "outputs": [
    {
     "name": "stdout",
     "output_type": "stream",
     "text": [
      "[2, 193, 0, 32, 162, 160, 134, 165, 41, 16, 228, 252, 169, 254, 38, 113, 182, 213, 44, 237, 92, 119, 184, 240, 216, 147, 4, 233, 129, 192, 244, 197, 176, 109, 122, 39, 224, 247, 49, 30, 51, 98, 102, 110, 211, 231, 20, 12, 7, 205, 27, 179, 57, 73, 56, 151, 126, 105, 141, 104, 242, 203, 171, 236, 8, 223, 209, 65, 25, 83, 74, 234, 106, 186, 204, 207, 153, 11, 81, 45, 71, 180, 154, 232, 101, 97, 133, 225, 181, 99, 103, 17, 125, 120, 155, 86, 59, 227, 31, 9, 175, 189, 158, 15, 24, 200, 95, 94, 1, 90, 123, 245, 19, 76, 167, 144, 127, 210, 132, 22, 202, 69, 77, 156, 251, 201, 79, 115, 87, 61, 82, 212, 37, 195, 198, 62, 85, 128, 214, 93, 29, 117, 107, 239, 42, 116, 206, 222, 137, 183, 88, 148, 46, 150, 5, 174, 67, 188, 136, 84, 89, 241, 18, 3, 108, 191, 143, 112, 138, 52, 163, 63, 118, 78, 235, 172, 53, 173, 190, 159, 91, 140, 246, 168, 238, 217, 166, 187, 13, 170, 142, 199, 68, 28, 75, 100, 10, 243, 145, 54, 23, 194, 215, 220, 111, 80, 219, 161, 250, 114, 149, 14, 34, 33, 66, 26, 185, 72, 48, 196, 130, 152, 248, 255, 146, 96, 178, 21, 50, 221, 139, 218, 60, 121, 230, 229, 253, 208, 131, 36, 64, 226, 47, 55, 157, 177, 249, 43, 124, 164, 35, 40, 70, 135, 58, 6]\n",
      "0x2 0xc1 0x0 0x20 0xa2 0xa0 0x86 0xa5 0x29 0x10 0xe4 0xfc 0xa9 0xfe 0x26 0x71\n",
      "0xb6 0xd5 0x2c 0xed 0x5c 0x77 0xb8 0xf0 0xd8 0x93 0x4 0xe9 0x81 0xc0 0xf4 0xc5\n",
      "0xb0 0x6d 0x7a 0x27 0xe0 0xf7 0x31 0x1e 0x33 0x62 0x66 0x6e 0xd3 0xe7 0x14 0xc\n",
      "0x7 0xcd 0x1b 0xb3 0x39 0x49 0x38 0x97 0x7e 0x69 0x8d 0x68 0xf2 0xcb 0xab 0xec\n",
      "0x8 0xdf 0xd1 0x41 0x19 0x53 0x4a 0xea 0x6a 0xba 0xcc 0xcf 0x99 0xb 0x51 0x2d\n",
      "0x47 0xb4 0x9a 0xe8 0x65 0x61 0x85 0xe1 0xb5 0x63 0x67 0x11 0x7d 0x78 0x9b 0x56\n",
      "0x3b 0xe3 0x1f 0x9 0xaf 0xbd 0x9e 0xf 0x18 0xc8 0x5f 0x5e 0x1 0x5a 0x7b 0xf5\n",
      "0x13 0x4c 0xa7 0x90 0x7f 0xd2 0x84 0x16 0xca 0x45 0x4d 0x9c 0xfb 0xc9 0x4f 0x73\n",
      "0x57 0x3d 0x52 0xd4 0x25 0xc3 0xc6 0x3e 0x55 0x80 0xd6 0x5d 0x1d 0x75 0x6b 0xef\n",
      "0x2a 0x74 0xce 0xde 0x89 0xb7 0x58 0x94 0x2e 0x96 0x5 0xae 0x43 0xbc 0x88 0x54\n",
      "0x59 0xf1 0x12 0x3 0x6c 0xbf 0x8f 0x70 0x8a 0x34 0xa3 0x3f 0x76 0x4e 0xeb 0xac\n",
      "0x35 0xad 0xbe 0x9f 0x5b 0x8c 0xf6 0xa8 0xee 0xd9 0xa6 0xbb 0xd 0xaa 0x8e 0xc7\n",
      "0x44 0x1c 0x4b 0x64 0xa 0xf3 0x91 0x36 0x17 0xc2 0xd7 0xdc 0x6f 0x50 0xdb 0xa1\n",
      "0xfa 0x72 0x95 0xe 0x22 0x21 0x42 0x1a 0xb9 0x48 0x30 0xc4 0x82 0x98 0xf8 0xff\n",
      "0x92 0x60 0xb2 0x15 0x32 0xdd 0x8b 0xda 0x3c 0x79 0xe6 0xe5 0xfd 0xd0 0x83 0x24\n",
      "0x40 0xe2 0x2f 0x37 0x9d 0xb1 0xf9 0x2b 0x7c 0xa4 0x23 0x28 0x46 0x87 0x3a 0x6\n",
      "[119, 120, 99, 183, 58, 224, 68, 6, 165, 202, 105, 176, 211, 187, 247, 163, 78, 3, 113, 85, 74, 245, 108, 140, 97, 220, 242, 30, 12, 186, 191, 166, 231, 60, 218, 204, 225, 104, 199, 114, 195, 170, 51, 159, 102, 148, 250, 254, 197, 189, 175, 109, 18, 59, 7, 136, 243, 249, 93, 69, 137, 31, 98, 206, 48, 158, 62, 131, 212, 237, 214, 135, 2, 244, 75, 138, 238, 43, 209, 216, 160, 141, 184, 155, 77, 239, 151, 248, 213, 251, 133, 130, 255, 188, 20, 177, 226, 17, 192, 1, 121, 122, 11, 118, 173, 232, 207, 88, 124, 190, 33, 230, 125, 41, 92, 96, 210, 181, 95, 71, 116, 110, 227, 222, 15, 221, 132, 143, 91, 39, 0, 72, 63, 46, 180, 178, 252, 205, 246, 76, 164, 157, 127, 223, 229, 146, 139, 29, 167, 169, 106, 34, 49, 144, 107, 228, 26, 101, 196, 32, 203, 161, 201, 123, 80, 8, 115, 81, 126, 24, 10, 117, 56, 47, 233, 145, 150, 149, 174, 219, 57, 100, 66, 194, 40, 53, 36, 234, 215, 172, 25, 198, 27, 156, 179, 67, 103, 13, 129, 5, 240, 37, 14, 134, 168, 83, 185, 50, 45, 64, 42, 171, 147, 253, 44, 162, 86, 82, 4, 28, 19, 70, 65, 22, 79, 208, 55, 89, 35, 193, 61, 87, 235, 182, 142, 217, 84, 112, 236, 54, 9, 152, 21, 154, 94, 200, 153, 241, 16, 73, 38, 52, 90, 23, 128, 111]\n",
      "77 78 63 B7 3A E0 44 06 A5 CA 69 B0 D3 BB F7 A3\n",
      "4E 03 71 55 4A F5 6C 8C 61 DC F2 1E 0C BA BF A6\n",
      "E7 3C DA CC E1 68 C7 72 C3 AA 33 9F 66 94 FA FE\n",
      "C5 BD AF 6D 12 3B 07 88 F3 F9 5D 45 89 1F 62 CE\n",
      "30 9E 3E 83 D4 ED D6 87 02 F4 4B 8A EE 2B D1 D8\n",
      "A0 8D B8 9B 4D EF 97 F8 D5 FB 85 82 FF BC 14 B1\n",
      "E2 11 C0 01 79 7A 0B 76 AD E8 CF 58 7C BE 21 E6\n",
      "7D 29 5C 60 D2 B5 5F 47 74 6E E3 DE 0F DD 84 8F\n",
      "5B 27 00 48 3F 2E B4 B2 FC CD F6 4C A4 9D 7F DF\n",
      "E5 92 8B 1D A7 A9 6A 22 31 90 6B E4 1A 65 C4 20\n",
      "CB A1 C9 7B 50 08 73 51 7E 18 0A 75 38 2F E9 91\n",
      "96 95 AE DB 39 64 42 C2 28 35 24 EA D7 AC 19 C6\n",
      "1B 9C B3 43 67 0D 81 05 F0 25 0E 86 A8 53 B9 32\n",
      "2D 40 2A AB 93 FD 2C A2 56 52 04 1C 13 46 41 16\n",
      "4F D0 37 59 23 C1 3D 57 EB B6 8E D9 54 70 EC 36\n",
      "09 98 15 9A 5E C8 99 F1 10 49 26 34 5A 17 80 6F\n",
      "['0x77', '0x78', '0x63', '0xb7', '0x3a', '0xe0', '0x44', '0x6', '0xa5', '0xca', '0x69', '0xb0', '0xd3', '0xbb', '0xf7', '0xa3', '0x4e', '0x3', '0x71', '0x55', '0x4a', '0xf5', '0x6c', '0x8c', '0x61', '0xdc', '0xf2', '0x1e', '0xc', '0xba', '0xbf', '0xa6', '0xe7', '0x3c', '0xda', '0xcc', '0xe1', '0x68', '0xc7', '0x72', '0xc3', '0xaa', '0x33', '0x9f', '0x66', '0x94', '0xfa', '0xfe', '0xc5', '0xbd', '0xaf', '0x6d', '0x12', '0x3b', '0x7', '0x88', '0xf3', '0xf9', '0x5d', '0x45', '0x89', '0x1f', '0x62', '0xce', '0x30', '0x9e', '0x3e', '0x83', '0xd4', '0xed', '0xd6', '0x87', '0x2', '0xf4', '0x4b', '0x8a', '0xee', '0x2b', '0xd1', '0xd8', '0xa0', '0x8d', '0xb8', '0x9b', '0x4d', '0xef', '0x97', '0xf8', '0xd5', '0xfb', '0x85', '0x82', '0xff', '0xbc', '0x14', '0xb1', '0xe2', '0x11', '0xc0', '0x1', '0x79', '0x7a', '0xb', '0x76', '0xad', '0xe8', '0xcf', '0x58', '0x7c', '0xbe', '0x21', '0xe6', '0x7d', '0x29', '0x5c', '0x60', '0xd2', '0xb5', '0x5f', '0x47', '0x74', '0x6e', '0xe3', '0xde', '0xf', '0xdd', '0x84', '0x8f', '0x5b', '0x27', '0x0', '0x48', '0x3f', '0x2e', '0xb4', '0xb2', '0xfc', '0xcd', '0xf6', '0x4c', '0xa4', '0x9d', '0x7f', '0xdf', '0xe5', '0x92', '0x8b', '0x1d', '0xa7', '0xa9', '0x6a', '0x22', '0x31', '0x90', '0x6b', '0xe4', '0x1a', '0x65', '0xc4', '0x20', '0xcb', '0xa1', '0xc9', '0x7b', '0x50', '0x8', '0x73', '0x51', '0x7e', '0x18', '0xa', '0x75', '0x38', '0x2f', '0xe9', '0x91', '0x96', '0x95', '0xae', '0xdb', '0x39', '0x64', '0x42', '0xc2', '0x28', '0x35', '0x24', '0xea', '0xd7', '0xac', '0x19', '0xc6', '0x1b', '0x9c', '0xb3', '0x43', '0x67', '0xd', '0x81', '0x5', '0xf0', '0x25', '0xe', '0x86', '0xa8', '0x53', '0xb9', '0x32', '0x2d', '0x40', '0x2a', '0xab', '0x93', '0xfd', '0x2c', '0xa2', '0x56', '0x52', '0x4', '0x1c', '0x13', '0x46', '0x41', '0x16', '0x4f', '0xd0', '0x37', '0x59', '0x23', '0xc1', '0x3d', '0x57', '0xeb', '0xb6', '0x8e', '0xd9', '0x54', '0x70', '0xec', '0x36', '0x9', '0x98', '0x15', '0x9a', '0x5e', '0xc8', '0x99', '0xf1', '0x10', '0x49', '0x26', '0x34', '0x5a', '0x17', '0x80', '0x6f']\n"
     ]
    }
   ],
   "source": [
    "\n",
    "# Chuyển ma trận thành danh sách một chiều\n",
    "custom_Sbox = [item for sublist in S_box for item in sublist]\n",
    "\n",
    "print(custom_Sbox )\n",
    "AES_Sbox = [\n",
    "    0x63, 0x7c, 0x77, 0x7b, 0xf2, 0x6b, 0x6f, 0xc5, 0x30, 0x01, 0x67, 0x2b, 0xfe, 0xd7, 0xab, 0x76,\n",
    "    0xca, 0x82, 0xc9, 0x7d, 0xfa, 0x59, 0x47, 0xf0, 0xad, 0xd4, 0xa2, 0xaf, 0x9c, 0xa4, 0x72, 0xc0,\n",
    "    0xb7, 0xfd, 0x93, 0x26, 0x36, 0x3f, 0xf7, 0xcc, 0x34, 0xa5, 0xe5, 0xf1, 0x71, 0xd8, 0x31, 0x15,\n",
    "    0x04, 0xc7, 0x23, 0xc3, 0x18, 0x96, 0x05, 0x9a, 0x07, 0x12, 0x80, 0xe2, 0xeb, 0x27, 0xb2, 0x75,\n",
    "    0x09, 0x83, 0x2c, 0x1a, 0x1b, 0x6e, 0x5a, 0xa0, 0x52, 0x3b, 0xd6, 0xb3, 0x29, 0xe3, 0x2f, 0x84,\n",
    "    0x53, 0xd1, 0x00, 0xed, 0x20, 0xfc, 0xb1, 0x5b, 0x6a, 0xcb, 0xbe, 0x39, 0x4a, 0x4c, 0x58, 0xcf,\n",
    "    0xd0, 0xef, 0xaa, 0xfb, 0x43, 0x4d, 0x33, 0x85, 0x45, 0xf9, 0x02, 0x7f, 0x50, 0x3c, 0x9f, 0xa8,\n",
    "    0x51, 0xa3, 0x40, 0x8f, 0x92, 0x9d, 0x38, 0xf5, 0xbc, 0xb6, 0xda, 0x21, 0x10, 0xff, 0xf3, 0xd2,\n",
    "    0xcd, 0x0c, 0x13, 0xec, 0x5f, 0x97, 0x44, 0x17, 0xc4, 0xa7, 0x7e, 0x3d, 0x64, 0x5d, 0x19, 0x73,\n",
    "    0x60, 0x81, 0x4f, 0xdc, 0x22, 0x2a, 0x90, 0x88, 0x46, 0xee, 0xb8, 0x14, 0xde, 0x5e, 0x0b, 0xdb,\n",
    "    0xe0, 0x32, 0x3a, 0x0a, 0x49, 0x06, 0x24, 0x5c, 0xc2, 0xd3, 0xac, 0x62, 0x91, 0x95, 0xe4, 0x79,\n",
    "    0xe7, 0xc8, 0x37, 0x6d, 0x8d, 0xd5, 0x4e, 0xa9, 0x6c, 0x56, 0xf4, 0xea, 0x65, 0x7a, 0xae, 0x08,\n",
    "    0xba, 0x78, 0x25, 0x2e, 0x1c, 0xa6, 0xb4, 0xc6, 0xe8, 0xdd, 0x74, 0x1f, 0x4b, 0xbd, 0x8b, 0x8a,\n",
    "    0x70, 0x3e, 0xb5, 0x66, 0x48, 0x03, 0xf6, 0x0e, 0x61, 0x35, 0x57, 0xb9, 0x86, 0xc1, 0x1d, 0x9e,\n",
    "    0xe1, 0xf8, 0x98, 0x11, 0x69, 0xd9, 0x8e, 0x94, 0x9b, 0x1e, 0x87, 0xe9, 0xce, 0x55, 0x28, 0xdf,\n",
    "    0x8c, 0xa1, 0x89, 0x0d, 0xbf, 0xe6, 0x42, 0x68, 0x41, 0x99, 0x2d, 0x0f, 0xb0, 0x54, 0xbb, 0x16\n",
    "]\n",
    "custom_Sbox_hex = [hex(num) for num in custom_Sbox]\n",
    "custom_Sbox_hex_16x16 = [custom_Sbox_hex[i:i+16] for i in range(0, len(custom_Sbox_hex), 16)]\n",
    "\n",
    "# In ra ma trận 16x16\n",
    "\n",
    "custom_Sbox_aes = [AES_Sbox[num] for num in custom_Sbox]\n",
    "print(custom_Sbox_aes)\n",
    "custom_Sbox_aes_16x16 = [custom_Sbox_aes[i:i+16] for i in range(0, len(custom_Sbox_aes), 16)]\n",
    "\n",
    "# In ra ma trận 16x16\n",
    "for row in custom_Sbox_aes_16x16:\n",
    "    print(' '.join(['{:02X}'.format(num) for num in row]))\n",
    "custom_Sbox_aes_hex = [hex(num) for num in custom_Sbox_aes]\n",
    "print(custom_Sbox_aes_hex)"
   ]
  },
  {
   "cell_type": "code",
   "execution_count": 17,
   "id": "be517a7e-1ae6-4806-98c8-bccc8660a178",
   "metadata": {
    "jupyter": {
     "source_hidden": true
    },
    "tags": []
   },
   "outputs": [],
   "source": [
    "# import random\n",
    "\n",
    "# # Khởi tạo hộp S-box\n",
    "# S_box = [[0]*16 for _ in range(16)]\n",
    "\n",
    "# # Danh sách để theo dõi các giá trị V đã xuất hiện\n",
    "# S_value= []\n",
    "\n",
    "# # Khởi tạo giá trị ban đầu của X và t\n",
    "# Xn = XPC_1\n",
    "# t = 0\n",
    "\n",
    "# # Tính toán giá trị cho hộp S-box\n",
    "# for i in range(16):\n",
    "#     for j in range(16):\n",
    "#         # Tính giá trị V và kiểm tra xem đã sử dụng chưa\n",
    "#         V = Xn % 256\n",
    "#         while V in S_values:\n",
    "#             Xn = (a*Xn + b) % (2**32)  # Tính toán Xn mới nếu giá trị V đã được sử dụng\n",
    "#             V = Xn % 256\n",
    "#         # Thêm giá trị V vào danh sách đã sử dụng\n",
    "#         S_values.append(V)\n",
    "#         # Cập nhật giá trị S[t] trong hộp S-box\n",
    "#         S_box[i][j] = V\n",
    "#         # Tăng giá trị t lên 1\n",
    "#         t += 1\n",
    "#         # Nếu t vượt quá 255, dừng quá trình tính toán\n",
    "#         if t > 255:\n",
    "#             break\n",
    "#     if t > 255:\n",
    "#         break\n",
    "\n",
    "# # In ra hộp S-box\n",
    "# for row in S_box:\n",
    "#     print(row)\n"
   ]
  },
  {
   "cell_type": "code",
   "execution_count": 18,
   "id": "2bacbe29-af64-423d-93d4-918c9408008f",
   "metadata": {
    "jupyter": {
     "source_hidden": true
    },
    "tags": []
   },
   "outputs": [],
   "source": [
    "# custom_Sbox = [\n",
    "#     2, 193, 0, 32, 162, 160, 134, 165, 41, 16, 228, 252, 169, 254, 38, 113,\n",
    "#     182, 213, 44, 237, 92, 119, 184, 240, 216, 147, 4, 233, 129, 192, 244, 197,\n",
    "#     176, 109, 122, 39, 224, 247, 49, 30, 51, 98, 102, 110, 211, 231, 20, 12,\n",
    "#     7, 205, 27, 179, 57, 73, 56, 151, 126, 105, 141, 104, 242, 203, 171, 236,\n",
    "#     8, 223, 209, 65, 25, 83, 74, 234, 106, 186, 204, 207, 153, 11, 81, 45,\n",
    "#     71, 180, 154, 232, 101, 97, 133, 225, 181, 99, 103, 17, 125, 120, 155, 86,\n",
    "#     59, 227, 31, 9, 175, 189, 158, 15, 24, 200, 95, 94, 1, 90, 123, 245,\n",
    "#     19, 76, 167, 144, 127, 210, 132, 22, 202, 69, 77, 156, 251, 201, 79, 115,\n",
    "#     87, 61, 82, 212, 37, 195, 198, 62, 85, 128, 214, 93, 29, 117, 107, 239,\n",
    "#     42, 116, 206, 222, 137, 183, 88, 148, 46, 150, 5, 174, 67, 188, 136, 84,\n",
    "#     89, 241, 18, 3, 108, 191, 143, 112, 138, 52, 163, 63, 118, 78, 235, 172,\n",
    "#     53, 173, 190, 159, 91, 140, 246, 168, 238, 217, 166, 187, 13, 170, 142, 199,\n",
    "#     68, 28, 75, 100, 10, 243, 145, 54, 23, 194, 215, 220, 111, 80, 219, 161,\n",
    "#     250, 114, 149, 14, 34, 33, 66, 26, 185, 72, 48, 196, 130, 152, 248, 255,\n",
    "#     146, 96, 178, 21, 50, 221, 139, 218, 60, 121, 230, 229, 253, 208, 131, 36,\n",
    "#     64, 226, 47, 55, 157, 177, 249, 43, 124, 164, 35, 40, 70, 135, 58, 6\n",
    "# ]\n",
    "\n",
    "# AES_Sbox = [\n",
    "#     0x63, 0x7c, 0x77, 0x7b, 0xf2, 0x6b, 0x6f, 0xc5, 0x30, 0x01, 0x67, 0x2b, 0xfe, 0xd7, 0xab, 0x76,\n",
    "#     0xca, 0x82, 0xc9, 0x7d, 0xfa, 0x59, 0x47, 0xf0, 0xad, 0xd4, 0xa2, 0xaf, 0x9c, 0xa4, 0x72, 0xc0,\n",
    "#     0xb7, 0xfd, 0x93, 0x26, 0x36, 0x3f, 0xf7, 0xcc, 0x34, 0xa5, 0xe5, 0xf1, 0x71, 0xd8, 0x31, 0x15,\n",
    "#     0x04, 0xc7, 0x23, 0xc3, 0x18, 0x96, 0x05, 0x9a, 0x07, 0x12, 0x80, 0xe2, 0xeb, 0x27, 0xb2, 0x75,\n",
    "#     0x09, 0x83, 0x2c, 0x1a, 0x1b, 0x6e, 0x5a, 0xa0, 0x52, 0x3b, 0xd6, 0xb3, 0x29, 0xe3, 0x2f, 0x84,\n",
    "#     0x53, 0xd1, 0x00, 0xed, 0x20, 0xfc, 0xb1, 0x5b, 0x6a, 0xcb, 0xbe, 0x39, 0x4a, 0x4c, 0x58, 0xcf,\n",
    "#     0xd0, 0xef, 0xaa, 0xfb, 0x43, 0x4d, 0x33, 0x85, 0x45, 0xf9, 0x02, 0x7f, 0x50, 0x3c, 0x9f, 0xa8,\n",
    "#     0x51, 0xa3, 0x40, 0x8f, 0x92, 0x9d, 0x38, 0xf5, 0xbc, 0xb6, 0xda, 0x21, 0x10, 0xff, 0xf3, 0xd2,\n",
    "#     0xcd, 0x0c, 0x13, 0xec, 0x5f, 0x97, 0x44, 0x17, 0xc4, 0xa7, 0x7e, 0x3d, 0x64, 0x5d, 0x19, 0x73,\n",
    "#     0x60, 0x81, 0x4f, 0xdc, 0x22, 0x2a, 0x90, 0x88, 0x46, 0xee, 0xb8, 0x14, 0xde, 0x5e, 0x0b, 0xdb,\n",
    "#     0xe0, 0x32, 0x3a, 0x0a, 0x49, 0x06, 0x24, 0x5c, 0xc2, 0xd3, 0xac, 0x62, 0x91, 0x95, 0xe4, 0x79,\n",
    "#     0xe7, 0xc8, 0x37, 0x6d, 0x8d, 0xd5, 0x4e, 0xa9, 0x6c, 0x56, 0xf4, 0xea, 0x65, 0x7a, 0xae, 0x08,\n",
    "#     0xba, 0x78, 0x25, 0x2e, 0x1c, 0xa6, 0xb4, 0xc6, 0xe8, 0xdd, 0x74, 0x1f, 0x4b, 0xbd, 0x8b, 0x8a,\n",
    "#     0x70, 0x3e, 0xb5, 0x66, 0x48, 0x03, 0xf6, 0x0e, 0x61, 0x35, 0x57, 0xb9, 0x86, 0xc1, 0x1d, 0x9e,\n",
    "#     0xe1, 0xf8, 0x98, 0x11, 0x69, 0xd9, 0x8e, 0x94, 0x9b, 0x1e, 0x87, 0xe9, 0xce, 0x55, 0x28, 0xdf,\n",
    "#     0x8c, 0xa1, 0x89, 0x0d, 0xbf, 0xe6, 0x42, 0x68, 0x41, 0x99, 0x2d, 0x0f, 0xb0, 0x54, 0xbb, 0x16\n",
    "# ]\n",
    "\n",
    "# # # # # Tạo một từ điển ánh xạ từng giá trị trong custom_Sbox với giá trị tương ứng từ AES_Sbox\n",
    "# # # custom_Sbox_mapping = {AES_Sbox[i]: custom_Sbox[i] for i in range(256)}\n",
    "\n",
    "# # # # Thay thế mỗi giá trị trong custom_Sbox bằng giá trị từ AES_Sbox\n",
    "# # # custom_Sbox_replacement = [custom_Sbox_mapping[value] for value in range(256)]\n",
    "\n",
    "# # # print(custom_Sbox_replacement)\n",
    "# # # custom_Sbox_replacement_hex = [hex(value) for value in custom_Sbox_replacement]\n",
    "# custom_Sbox_hex = [hex(num) for num in custom_Sbox]\n",
    "# custom_Sbox_hex_16x16 = [custom_Sbox_hex[i:i+16] for i in range(0, len(custom_Sbox_hex), 16)]\n",
    "\n",
    "# # In ra ma trận 16x16\n",
    "# for row in custom_Sbox_hex_16x16:\n",
    "#     print(' '.join(row))\n",
    "\n",
    "\n",
    "# # Sbox_hex = [hex(value) for value in custom_Sbox]  \n",
    "# # print(Sbox_hex)\n",
    "# # # Loại bỏ tiền tố \"0x\" và chuyển đổi thành số nguyên\n",
    "# # S_box_int = [int(x, 16) for x in Sbox_hex]\n",
    "\n",
    "# # # Tạo danh sách AES_Sbox từ S_box_int\n",
    "# # AES_Sbox = [0] * 256\n",
    "# # for i, value in enumerate(S_box_int):\n",
    "# #     AES_Sbox[i] = value\n",
    "\n",
    "# # # # Lấy giá trị từ vị trí [0, 1] và [5, 5]\n",
    "# # # value_0_1 = AES_Sbox[0 * 16 + 1]\n",
    "# # # value_5_5 = AES_Sbox[5 * 16 + 5]\n",
    "\n",
    "# # print(\"Giá trị tại vị trí [0, 1]:\", hex(value_0_1))\n",
    "# # print(\"Giá trị tại vị trí [5, 5]:\", hex(value_5_5))\n",
    "# custom_Sbox_aes = [AES_Sbox[num] for num in custom_Sbox]\n",
    "# print(custom_Sbox_aes)\n",
    "# custom_Sbox_aes_16x16 = [custom_Sbox_aes[i:i+16] for i in range(0, len(custom_Sbox_aes), 16)]\n",
    "\n",
    "# # In ra ma trận 16x16\n",
    "# for row in custom_Sbox_aes_16x16:\n",
    "#     print(' '.join(['{:02X}'.format(num) for num in row]))\n",
    "# custom_Sbox_aes_hex = [hex(num) for num in custom_Sbox_aes]\n",
    "# print(custom_Sbox_aes_hex)"
   ]
  },
  {
   "cell_type": "code",
   "execution_count": 19,
   "id": "02d3368f-f406-4042-96ad-39e3bca68d5a",
   "metadata": {},
   "outputs": [],
   "source": [
    "# ud = Kd[:5]\n",
    "# vd = Kd[5:10]\n",
    "# rid = Kd[10:15]\n",
    "# rjd = Kd[15:20]\n",
    "# print (ud , vd, rid , rjd)"
   ]
  },
  {
   "cell_type": "code",
   "execution_count": 20,
   "id": "bbb58d4b-e062-4067-a02c-9a41d0d4e934",
   "metadata": {},
   "outputs": [
    {
     "ename": "NameError",
     "evalue": "name 's_box_matrix' is not defined",
     "output_type": "error",
     "traceback": [
      "\u001b[1;31m---------------------------------------------------------------------------\u001b[0m",
      "\u001b[1;31mNameError\u001b[0m                                 Traceback (most recent call last)",
      "Cell \u001b[1;32mIn[20], line 2\u001b[0m\n\u001b[0;32m      1\u001b[0m M \u001b[38;5;241m=\u001b[39m \u001b[38;5;241m32\u001b[39m\n\u001b[1;32m----> 2\u001b[0m \u001b[38;5;28mprint\u001b[39m(\u001b[43ms_box_matrix\u001b[49m)\n\u001b[0;32m      4\u001b[0m \u001b[38;5;66;03m# Định nghĩa hàm Modified 2-D Cat Map\u001b[39;00m\n\u001b[0;32m      5\u001b[0m \u001b[38;5;28;01mdef\u001b[39;00m \u001b[38;5;21mmodified_2d_cat_map\u001b[39m(i, j, ud, vd, rid, rjd, M):\n",
      "\u001b[1;31mNameError\u001b[0m: name 's_box_matrix' is not defined"
     ]
    }
   ],
   "source": [
    "M = 32\n",
    "print(s_box_matrix)\n",
    "\n",
    "# Định nghĩa hàm Modified 2-D Cat Map\n",
    "def modified_2d_cat_map(i, j, ud, vd, rid, rjd, M):\n",
    "    Z1 = (rid + rjd) % M\n",
    "    Z2 = (ud * vd + 1) % M\n",
    "    Z3 = (vd * i + rjd) % M\n",
    "    in_ = (i + ud * j + Z1) % M\n",
    "    jn = (Z3 + Z2 * j) % M \n",
    "    return in_, jn\n",
    "\n",
    "# Khóa động\n",
    "\n",
    "ud = int(Kd[:5], 2)\n",
    "vd = int(Kd[5:10], 2)\n",
    "rid = int(Kd[10:15], 2)\n",
    "rjd = int(Kd[15:20], 2)\n",
    "print (ud,vd,rid,rjd)\n",
    "# Số hàng và số cột của ma trận\n",
    "M = 32\n",
    "\n",
    "# Ma trận hoán vị\n",
    "s_box_permuted = [['' for _ in range(M)] for _ in range(M)]\n",
    "\n",
    "\n",
    "# Phép hoán vị sử dụng Modified 2-D Cat Map\n",
    "for i in range(M):\n",
    "    for j in range(M):\n",
    "        in_, jn = modified_2d_cat_map(i, j, ud, vd, rid, rjd, M)\n",
    "        print(\"in_:\", in_, \"jn:\", jn)  # In ra giá trị của in_ và jn để kiểm tra\n",
    "        if in_ < M and jn < M:  # Kiểm tra xem chỉ số hàng và cột có nằm trong phạm vi hợp lệ không\n",
    "            s_box_permuted[in_][jn] = s_box_matrix[i][j]\n",
    "        else:\n",
    "            print(\"Invalid indices:\", in_, jn)\n",
    "\n",
    "# In ma trận hoán vị\n",
    "for row in s_box_permuted:\n",
    "    print(' '.join(row))\n",
    "\n",
    "\n"
   ]
  },
  {
   "cell_type": "code",
   "execution_count": null,
   "id": "bf021a02-a71c-44cf-80f0-4b633fb4b1c2",
   "metadata": {},
   "outputs": [],
   "source": []
  }
 ],
 "metadata": {
  "kernelspec": {
   "display_name": "py29",
   "language": "python",
   "name": "py29"
  },
  "language_info": {
   "codemirror_mode": {
    "name": "ipython",
    "version": 3
   },
   "file_extension": ".py",
   "mimetype": "text/x-python",
   "name": "python",
   "nbconvert_exporter": "python",
   "pygments_lexer": "ipython3",
   "version": "3.9.17"
  }
 },
 "nbformat": 4,
 "nbformat_minor": 5
}
